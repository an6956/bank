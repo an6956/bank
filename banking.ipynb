{
 "cells": [
  {
   "cell_type": "code",
   "execution_count": null,
   "id": "d9c4ed09",
   "metadata": {},
   "outputs": [],
   "source": [
    "from tkinter import *\n",
    "master = Tk()\n",
    "Label(master, text='Custid').grid(row=0)\n",
    "Label(master, text='Customer Name').grid(row=1)\n",
    "Label(master, text='Branch').grid(row=2)\n",
    "Label(master, text='Account type').grid(row=3)\n",
    "e1 = Entry(master)\n",
    "e2 = Entry(master)\n",
    "e3 = Entry(master)\n",
    "e1.grid(row=0, column=1)\n",
    "e2.grid(row=1, column=1)\n",
    "e3.grid(row=2, column=1)\n",
    "v = IntVar()\n",
    "Radiobutton(master, text='Saving',variable=v, value=1).grid(row=3, column=1)\n",
    "Radiobutton(master, text='Non Saving',variable=v, value=2).grid(row=3, column=2)\n",
    "w = Scale(master, from_=19, to=200, orient=HORIZONTAL)\n",
    "Label(master, text='Amount').grid(row=4)\n",
    "w.grid(row=4, column=1)\n",
    "insrt = Button(master, text='Insert', fg='black')\n",
    "insrt.grid(row=5)\n",
    "updte = Button(master, text='Update',fg='black')\n",
    "updte.grid(row=5, column=1)\n",
    "dlte = Button(master, text='Delete',fg='black')\n",
    "dlte.grid(row=6)\n",
    "slct = Button(master, text='Select',fg='black')\n",
    "slct.grid(row=6,column=1)\n",
    "mainloop()"
   ]
  },
  {
   "cell_type": "code",
   "execution_count": null,
   "id": "dbb3513b",
   "metadata": {},
   "outputs": [],
   "source": []
  },
  {
   "cell_type": "code",
   "execution_count": null,
   "id": "3581a585",
   "metadata": {},
   "outputs": [],
   "source": []
  }
 ],
 "metadata": {
  "kernelspec": {
   "display_name": "Python 3 (ipykernel)",
   "language": "python",
   "name": "python3"
  },
  "language_info": {
   "codemirror_mode": {
    "name": "ipython",
    "version": 3
   },
   "file_extension": ".py",
   "mimetype": "text/x-python",
   "name": "python",
   "nbconvert_exporter": "python",
   "pygments_lexer": "ipython3",
   "version": "3.9.13"
  }
 },
 "nbformat": 4,
 "nbformat_minor": 5
}
